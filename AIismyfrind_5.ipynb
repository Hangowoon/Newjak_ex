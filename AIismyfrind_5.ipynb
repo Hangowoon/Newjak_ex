{
  "nbformat": 4,
  "nbformat_minor": 0,
  "metadata": {
    "colab": {
      "name": "AIismyfrind_5.ipynb",
      "provenance": [],
      "authorship_tag": "ABX9TyM2o+tgKbYFiR9Bj86Qx518",
      "include_colab_link": true
    },
    "kernelspec": {
      "name": "python3",
      "display_name": "Python 3"
    },
    "language_info": {
      "name": "python"
    }
  },
  "cells": [
    {
      "cell_type": "markdown",
      "metadata": {
        "id": "view-in-github",
        "colab_type": "text"
      },
      "source": [
        "<a href=\"https://colab.research.google.com/github/Hangowoon/Newjak_ex/blob/main/AIismyfrind_5.ipynb\" target=\"_parent\"><img src=\"https://colab.research.google.com/assets/colab-badge.svg\" alt=\"Open In Colab\"/></a>"
      ]
    },
    {
      "cell_type": "code",
      "source": [
        "import tensorflow as tf\n",
        "import numpy as np\n",
        "from tensorflow import keras"
      ],
      "metadata": {
        "id": "gG0W7eUexQLL"
      },
      "execution_count": 6,
      "outputs": []
    },
    {
      "cell_type": "code",
      "execution_count": null,
      "metadata": {
        "id": "RxgytEfan-z3"
      },
      "outputs": [],
      "source": [
        "#모델에 대한 정의 : y = wx+b  1차식에 대한 예측 모델 \n",
        "model = keras.Sequential([keras.layers.Dense(units=1, input_shape=[1])])  \n",
        "### keras는 1차식 라이브러리  / units = 1 : 뉴런이 1개 있다  / input_shape : 1개 입력 \n",
        "\n",
        "#학습방법 설명 \n",
        "model.compile(optimizer='sgd', loss='mean_squared_error')\n",
        "### optimizer :  어떤방법으로 할지 -> loss를 줄여갈수 있는 방법 \n",
        "### loss : 내가 원하는 출력과 실제로 나오는 출력과의 차이 -> 얼마나 많이 틀렸느냐 나타내주는 것 \n",
        "\n",
        "#질문과 답을 주고 학습 명령\n",
        "xs = np.array([-1.0, 0.0, 1.0, 2.0, 3.0, 4.0], dtype=float)\n",
        "ys = np.array([-3.0, -1.0, 1.0, 3.0, 5.0, 7.0], dtype=float)\n",
        "\n",
        "model.fit(xs, ys, epochs=500)\n",
        "### epochs : 정답 나올때까지 돌아갈 횟수 \n",
        "\n",
        "#결과값 출력 \n",
        "print(model.predict([10.0]))\n",
        "### model.predict : 모델.예측  -> x = 10.0을 넣었을 때 y값 예측"
      ]
    }
  ]
}