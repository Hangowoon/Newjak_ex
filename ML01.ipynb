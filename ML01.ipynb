{
  "nbformat": 4,
  "nbformat_minor": 0,
  "metadata": {
    "colab": {
      "name": "ML01.ipynb",
      "private_outputs": true,
      "provenance": [],
      "collapsed_sections": [],
      "include_colab_link": true
    },
    "kernelspec": {
      "name": "python3",
      "display_name": "Python 3"
    },
    "language_info": {
      "name": "python"
    }
  },
  "cells": [
    {
      "cell_type": "markdown",
      "metadata": {
        "id": "view-in-github",
        "colab_type": "text"
      },
      "source": [
        "<a href=\"https://colab.research.google.com/github/Hangowoon/Newjak_ex/blob/main/ML01.ipynb\" target=\"_parent\"><img src=\"https://colab.research.google.com/assets/colab-badge.svg\" alt=\"Open In Colab\"/></a>"
      ]
    },
    {
      "cell_type": "markdown",
      "source": [
        "### **기계학습 day 1**"
      ],
      "metadata": {
        "id": "EPGUgn3cG4Mm"
      }
    },
    {
      "cell_type": "markdown",
      "source": [
        "# **예제 1. ML all around with NBA stats**"
      ],
      "metadata": {
        "id": "QCLMoLexHH78"
      }
    },
    {
      "cell_type": "markdown",
      "source": [
        "(1) import libraries"
      ],
      "metadata": {
        "id": "VO_Ca7fZHeMH"
      }
    },
    {
      "cell_type": "code",
      "source": [
        "#넘파이 numpy 판다스 pandas\n",
        "import numpy as np\n",
        "import pandas as pd"
      ],
      "metadata": {
        "id": "lvT3tj0bHGNI"
      },
      "execution_count": null,
      "outputs": []
    },
    {
      "cell_type": "markdown",
      "source": [
        "(2) file upload"
      ],
      "metadata": {
        "id": "qmkIYl8WHhe9"
      }
    },
    {
      "cell_type": "code",
      "source": [
        "from google.colab import files \n",
        "files.upload()\n",
        "nbastat = pd.read_csv('nbastat2022.csv')\n",
        "nbastat"
      ],
      "metadata": {
        "id": "Qp4QXSV1Hkbl"
      },
      "execution_count": null,
      "outputs": []
    },
    {
      "cell_type": "markdown",
      "source": [
        "(3) variable 설정"
      ],
      "metadata": {
        "id": "cCKWe8OXHp4U"
      }
    },
    {
      "cell_type": "code",
      "source": [
        "#data의 갯수 : m --> 읽어들인 csv 파일의 줄 수 \n",
        "m = len(nbastat)\n",
        "print(m)\n",
        "#특징 추출 : 31개의 속성 필요 없음 --> FGA (X) FGM (Y)만 필요함 \n",
        "X = nbastat[['FGA']]\n",
        "Y = nbastat[['FGM']]\n",
        "print(X)\n",
        "print(Y)\n",
        "#결측값 제거 --> fillna\n",
        "X = X.fillna(0)\n",
        "Y = Y.fillna(0)\n",
        "\n",
        "type(X)"
      ],
      "metadata": {
        "id": "Jxzl0AdtHyKE"
      },
      "execution_count": null,
      "outputs": []
    },
    {
      "cell_type": "markdown",
      "source": [
        "(4) array로 변환"
      ],
      "metadata": {
        "id": "qqwExJOrHyn-"
      }
    },
    {
      "cell_type": "code",
      "source": [
        "X = (np.array(X)).reshape(m,1)\n",
        "Y = (np.array(Y)).reshape(m,1)\n",
        "print(X)\n",
        "type(X)\n",
        "\n",
        "import matplotlib.pyplot as plt\n",
        "plt.plot(X, Y, '.b')\n",
        "plt.xlabel(\"FGA\")\n",
        "plt.ylabel(\"FGM\")"
      ],
      "metadata": {
        "id": "EXgf-rpvH3r0"
      },
      "execution_count": null,
      "outputs": []
    },
    {
      "cell_type": "markdown",
      "source": [
        "(5) tensor 변환"
      ],
      "metadata": {
        "id": "K4nBEwJFH4Eu"
      }
    },
    {
      "cell_type": "code",
      "source": [
        "X0 = np.ones((m, 1)) #ones는 1을 만들어달라라는 함수, (m,1) m개의 줄을 1을 만들어 달라\n",
        "Xb = np.c_[X0, X] # 1과 X를 붙여주세요 --> c_\n",
        "print(Xb)  # theta0 + theata1*x  --> (theta0, theta1) *(1,x)\n",
        "Xb.shape"
      ],
      "metadata": {
        "id": "dwI_83LGH_FE"
      },
      "execution_count": null,
      "outputs": []
    },
    {
      "cell_type": "markdown",
      "source": [
        "(6) gradient descent 변수 설정"
      ],
      "metadata": {
        "id": "vj80vQ0aH_lU"
      }
    },
    {
      "cell_type": "code",
      "source": [
        "learning_rate = 0.0001 #alpha : learning rate \n",
        "n_iter = 200\n",
        "\n",
        "theta = np.zeros((2, 1))\n",
        "gradient = np.zeros((2,1))"
      ],
      "metadata": {
        "id": "WrJb6_FEIF4L"
      },
      "execution_count": null,
      "outputs": []
    },
    {
      "cell_type": "markdown",
      "source": [
        "(7) gradient descent 실행"
      ],
      "metadata": {
        "id": "EFtc3D4kIGbs"
      }
    },
    {
      "cell_type": "code",
      "source": [
        "for i in range(n_iter):\n",
        "  gradient = (1.0/m)*Xb.T.dot(Xb.dot(theta)-Y)\n",
        "  theta = theta - learning_rate*gradient"
      ],
      "metadata": {
        "id": "8d066sxSILh-"
      },
      "execution_count": null,
      "outputs": []
    },
    {
      "cell_type": "markdown",
      "source": [
        "(8) 결과 확인"
      ],
      "metadata": {
        "id": "obapeIsVIMJU"
      }
    },
    {
      "cell_type": "code",
      "source": [
        "theta"
      ],
      "metadata": {
        "id": "z1up28f5IOxF"
      },
      "execution_count": null,
      "outputs": []
    },
    {
      "cell_type": "code",
      "source": [
        "Y_pred = Xb.dot(theta)\n",
        "\n",
        "plt.plot(X, Y_pred, color = 'Red')\n",
        "plt.plot(X, Y, '.b')"
      ],
      "metadata": {
        "id": "-O0P5RabRf9h"
      },
      "execution_count": null,
      "outputs": []
    },
    {
      "cell_type": "markdown",
      "source": [
        "(9) 번외편 - sklearn"
      ],
      "metadata": {
        "id": "2Vwdht8EIUSE"
      }
    },
    {
      "cell_type": "code",
      "source": [
        "from sklearn.linear_model import SGDRegressor\n",
        "\n",
        "model = SGDRegressor(max_iter = 100, penalty = None, alpha = 0.0001)\n",
        "model.fit(X, Y.ravel())\n",
        "\n",
        "Y_prea = model.predict(X)"
      ],
      "metadata": {
        "id": "z1-1zVVFRdnh"
      },
      "execution_count": null,
      "outputs": []
    },
    {
      "cell_type": "code",
      "source": [
        "plt.plot(X, Y, 'b.')\n",
        "plt.plot(X, Y_prea, 'r')\n",
        "plt.show()"
      ],
      "metadata": {
        "id": "BlHOUWyrRpun"
      },
      "execution_count": null,
      "outputs": []
    }
  ]
}