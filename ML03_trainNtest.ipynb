{
  "nbformat": 4,
  "nbformat_minor": 0,
  "metadata": {
    "colab": {
      "name": "ML03 - trainNtest.ipynb",
      "private_outputs": true,
      "provenance": [],
      "collapsed_sections": [],
      "include_colab_link": true
    },
    "kernelspec": {
      "name": "python3",
      "display_name": "Python 3"
    },
    "language_info": {
      "name": "python"
    }
  },
  "cells": [
    {
      "cell_type": "markdown",
      "metadata": {
        "id": "view-in-github",
        "colab_type": "text"
      },
      "source": [
        "<a href=\"https://colab.research.google.com/github/Hangowoon/Newjak_ex/blob/main/ML03_trainNtest.ipynb\" target=\"_parent\"><img src=\"https://colab.research.google.com/assets/colab-badge.svg\" alt=\"Open In Colab\"/></a>"
      ]
    },
    {
      "cell_type": "markdown",
      "source": [
        "# **(1) import libraries**"
      ],
      "metadata": {
        "id": "-DTSV0IEds3d"
      }
    },
    {
      "cell_type": "code",
      "execution_count": null,
      "metadata": {
        "id": "gVUT3i9WdqY5"
      },
      "outputs": [],
      "source": [
        "#넘파이 numpy 판다스 pandas\n",
        "import numpy as np\n",
        "import pandas as pd"
      ]
    },
    {
      "cell_type": "markdown",
      "source": [
        "# **(2) upload file**"
      ],
      "metadata": {
        "id": "tSo21h7qdxu2"
      }
    },
    {
      "cell_type": "code",
      "source": [
        "# nbasta2022.csv를 사용\n",
        "from google.colab import files \n",
        "files.upload()\n",
        "nbastat = pd.read_csv('nbastat2022.csv')\n",
        "nbastat"
      ],
      "metadata": {
        "id": "7_eYskJceHK8"
      },
      "execution_count": null,
      "outputs": []
    },
    {
      "cell_type": "markdown",
      "source": [
        "# **(3) Variable 설정**"
      ],
      "metadata": {
        "id": "uAWPYgnZeHhj"
      }
    },
    {
      "cell_type": "code",
      "source": [
        "# 이전 : 단변량 회귀 : FGA -> PTS\n",
        "# 이번 : 다면량 회귀 : FGA, 3PA, FTA -> PTS\n",
        "# FGA -> x1, 3PA -> x2, FTA -> x3 , PTS -> y \n",
        "\n",
        "#data의 갯수 : m --> 읽어들인 csv 파일의 줄 수 \n",
        "m = len(nbastat)\n",
        "\n",
        "X1 = nbastat[['FGA']]\n",
        "X2 = nbastat[['3PA']]\n",
        "X3 = nbastat[['FTA']]\n",
        "Y = nbastat[['PTS']]\n",
        "\n",
        "#결측값 제거 --> fillna\n",
        "X1 = X1.fillna(0)\n",
        "X2 = X2.fillna(0)\n",
        "X3 = X3.fillna(0)\n",
        "Y = Y.fillna(0)\n",
        "\n",
        "print(type(Y))"
      ],
      "metadata": {
        "id": "8jA1gHZ8eLEp"
      },
      "execution_count": null,
      "outputs": []
    },
    {
      "cell_type": "markdown",
      "source": [
        "# **(4) Array로 변환**"
      ],
      "metadata": {
        "id": "R2hoc5hPeLUa"
      }
    },
    {
      "cell_type": "code",
      "source": [
        "# pandas의 dataframe형태로 저장된 X1 - Y --> numpy의 array로 변환\n",
        "\n",
        "X1 = (np.array(X1)).reshape(m,1)\n",
        "X2 = (np.array(X2)).reshape(m,1)\n",
        "X3 = (np.array(X3)).reshape(m,1)\n",
        "Y = (np.array(Y)).reshape(m,1)\n",
        "\n",
        "print(type(Y))"
      ],
      "metadata": {
        "id": "fvMPzmJnePHE"
      },
      "execution_count": null,
      "outputs": []
    },
    {
      "cell_type": "markdown",
      "source": [
        "# **(5) Tensor 변환**"
      ],
      "metadata": {
        "id": "cXmLnQ64ePij"
      }
    },
    {
      "cell_type": "code",
      "source": [
        "# Y = theta0 + theta1 * X1 + theta2 * X2 + theta3 * X3\n",
        "# Y = (theta0, theta1, theta2, theta) * (1, X1, X2, X3)\n",
        "# (1, X1, X2, X3) -> Xb\n",
        "\n",
        "X0 = np.ones((m, 1)) #ones는 1을 만들어달라라는 함수, (m,1) m개의 줄을 1을 만들어 달라\n",
        "Xb = np.c_[X0, X1, X2, X3] # 1과 X를 붙여주세요 --> c_\n",
        "\n",
        "print(Xb.shape)  \n",
        "print(Y.shape)"
      ],
      "metadata": {
        "id": "c6buK66NeTlD"
      },
      "execution_count": null,
      "outputs": []
    },
    {
      "cell_type": "markdown",
      "source": [
        "# **(6) dataset 분할**"
      ],
      "metadata": {
        "id": "1m-in2WJeT35"
      }
    },
    {
      "cell_type": "markdown",
      "source": [
        "**(6-1) dataset 분할 함수 정의**"
      ],
      "metadata": {
        "id": "e2PjuOCDe_rO"
      }
    },
    {
      "cell_type": "code",
      "source": [
        "# X, Y -> 6:4로 분할 Xa, Ya (60%), Xb, Yb (40%)\n",
        "# Xa, Ya -> training\n",
        "# Xb, Yb를 적용해서 결과를 비교 \n",
        "\n",
        "def permutation_split (X, Y, ratio = 0.6, random_state = 100):\n",
        "  # Xa, Ya에 포함될 데이터의 수 = m, shape[0] * ratio\n",
        "  # Xb, Yb에 포함될 데이터의 수 = m - Xa에 포함될 데이터의 수 \n",
        "  num_a = int(m * ratio)\n",
        "  num_b = m - num_a\n",
        "  print(num_a, num_b)\n",
        "\n",
        "  # X에 포함된 data는 m개 -> 0번째부터 m-1번째까지  -> random하게 순서를 바꿉니다\n",
        "  np.random.seed (random_state)\n",
        "  shuffle = np.random.permutation(m)\n",
        "\n",
        "  X = X[shuffle, :]\n",
        "  Y = Y[shuffle, :]\n",
        "  Xa = X[:num_a]  # 첫번째 원소부터 num_a개를 저장(0 ~ num_a -1)\n",
        "  Ya = Y[:num_a]\n",
        "  Xb = X[num_a:]  # (num_a번째 원소부터 마지막 원소까지 저장)\n",
        "  Yb = Y[num_a:]\n",
        "\n",
        "  return Xa, Xb, Ya, Yb "
      ],
      "metadata": {
        "id": "DF23FVXHeXXP"
      },
      "execution_count": null,
      "outputs": []
    },
    {
      "cell_type": "markdown",
      "source": [
        "(6-2) dataset 분할"
      ],
      "metadata": {
        "id": "ALEzZIAyfFfo"
      }
    },
    {
      "cell_type": "code",
      "source": [
        "Xb_train, Xb_test, Y_train, Y_test = permutation_split(Xb, Y, 0.6)\n",
        "print(Y_train.shape, Y_test.shape)"
      ],
      "metadata": {
        "id": "Ut-aOIbsfVI7"
      },
      "execution_count": null,
      "outputs": []
    },
    {
      "cell_type": "markdown",
      "source": [
        "# **(7) Gradient descent 변수 설정**"
      ],
      "metadata": {
        "id": "hadJQZjveX1v"
      }
    },
    {
      "cell_type": "code",
      "source": [
        "learning_rate = 0.0001 #alpha : learning rate \n",
        "n_iter = 400\n",
        "\n",
        "# theta = (theta0, theta1, theta2, theta3)\n",
        "theta = np.zeros((4, 1))\n",
        "gradient = np.zeros((4,1))"
      ],
      "metadata": {
        "id": "G7FIIsV-ecMH"
      },
      "execution_count": null,
      "outputs": []
    },
    {
      "cell_type": "markdown",
      "source": [
        "# **(8) Loss 함수 정의**"
      ],
      "metadata": {
        "id": "dHg_q17necd1"
      }
    },
    {
      "cell_type": "code",
      "source": [
        "def Compute_J (theta, Xb, Y):\n",
        "  #loss_term = 예측한 값 - 실제 값\n",
        "  #예측한 값 = theta * X -> Xb.ot(theta) -> \n",
        "  loss_term = Xb.dot(theta) - Y \n",
        "  loss_term = loss_term.reshape(-1) # loss_term을 (249, 1) -> (249)\n",
        "\n",
        "  #loss_term의 제곱 \n",
        "  loss2 = np.square(loss_term)\n",
        "\n",
        "  #loss_term의 제곱의 평균\n",
        "  loss_avg = np.sum(loss2)/(2*m)\n",
        "  return loss_avg"
      ],
      "metadata": {
        "id": "du4bNdCEefht"
      },
      "execution_count": null,
      "outputs": []
    },
    {
      "cell_type": "markdown",
      "source": [
        "# **(9) Gradient descent 실행**"
      ],
      "metadata": {
        "id": "qxGkWaz-efuj"
      }
    },
    {
      "cell_type": "code",
      "source": [
        "loss_arr = []\n",
        "iter_arr = []\n",
        "for i in range(n_iter):\n",
        "  gradient = (1.0/m)*Xb_train.T.dot(Xb_train.dot(theta)-Y_train)\n",
        "  theta = theta - learning_rate * gradient\n",
        "  loss = Compute_J(theta, Xb_train, Y_train)\n",
        "  iter_arr.append(i)\n",
        "  loss_arr.append(loss)"
      ],
      "metadata": {
        "id": "Fs6xbr7iejWo"
      },
      "execution_count": null,
      "outputs": []
    },
    {
      "cell_type": "markdown",
      "source": [
        "# **(10) 결과 확인**"
      ],
      "metadata": {
        "id": "AVx2pQZsejnP"
      }
    },
    {
      "cell_type": "code",
      "source": [
        "theta"
      ],
      "metadata": {
        "id": "bsAPfYdVenE5"
      },
      "execution_count": null,
      "outputs": []
    },
    {
      "cell_type": "code",
      "source": [
        "# 반복 횟수가 증가함에 따라서 loss 함수가 감소함을 보여준다.\n",
        "# iter_arr, loss_arr를 그려보자\n",
        "\n",
        "import matplotlib.pyplot as plt\n",
        "plt.plot(iter_arr, loss_arr, '.b')\n",
        "plt.xlabel(\"iteration\")\n",
        "plt.ylabel(\"loss\")"
      ],
      "metadata": {
        "id": "2-pbUZJNfqn_"
      },
      "execution_count": null,
      "outputs": []
    },
    {
      "cell_type": "code",
      "source": [
        "# train과 test의 error를 비교\n",
        "\n",
        "# error: Y_prea - Y_train)^2을 더해서 (1/m), m --> Y_train의 수 또는 Y_test의 수 \n",
        "# (Y_pred - Y_train)^2을 더한다 --> 내적  --> dot \n",
        "# (Y_pred - Y_train).T.dot(Y_pred - Y_train)\n",
        "\n",
        "# train dataset에 대한 error\n",
        "Y_pred = Xb_train.dot(theta)\n",
        "error_train = (1/len(Y_train))*(Y_pred - Y_train).T.dot(Y_pred - Y_train)\n",
        "\n",
        "# test detaset에 대한 error \n",
        "Y_pred = Xb_test.dot(theta)\n",
        "error_test = (1/len(Y_test))*(Y_pred - Y_test).T.dot(Y_pred - Y_test)\n",
        "\n",
        "print(error_train, error_test)\n",
        "print(Y_test)"
      ],
      "metadata": {
        "id": "z0nECKp1fsF0"
      },
      "execution_count": null,
      "outputs": []
    },
    {
      "cell_type": "code",
      "source": [
        ""
      ],
      "metadata": {
        "id": "NHbcTC5kfu7l"
      },
      "execution_count": null,
      "outputs": []
    }
  ]
}