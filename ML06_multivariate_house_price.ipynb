{
  "nbformat": 4,
  "nbformat_minor": 0,
  "metadata": {
    "colab": {
      "name": "ML06_multivariate_house_price.ipynb",
      "private_outputs": true,
      "provenance": [],
      "collapsed_sections": [],
      "include_colab_link": true
    },
    "kernelspec": {
      "name": "python3",
      "display_name": "Python 3"
    },
    "language_info": {
      "name": "python"
    }
  },
  "cells": [
    {
      "cell_type": "markdown",
      "metadata": {
        "id": "view-in-github",
        "colab_type": "text"
      },
      "source": [
        "<a href=\"https://colab.research.google.com/github/Hangowoon/Newjak_ex/blob/main/ML06_multivariate_house_price.ipynb\" target=\"_parent\"><img src=\"https://colab.research.google.com/assets/colab-badge.svg\" alt=\"Open In Colab\"/></a>"
      ]
    },
    {
      "cell_type": "markdown",
      "source": [
        "# **(1) import libraries**"
      ],
      "metadata": {
        "id": "P1osbKYsE_j_"
      }
    },
    {
      "cell_type": "code",
      "execution_count": null,
      "metadata": {
        "id": "x-XIjJHYE-G6"
      },
      "outputs": [],
      "source": [
        "#넘파이 numpy 판다스 pandas\n",
        "import numpy as np\n",
        "import pandas as pd"
      ]
    },
    {
      "cell_type": "markdown",
      "source": [
        "# **(2) upload files**"
      ],
      "metadata": {
        "id": "2fFnMP9TFHLM"
      }
    },
    {
      "cell_type": "code",
      "source": [
        "# nbasta2022.csv를 사용\n",
        "from google.colab import files \n",
        "files.upload()\n",
        "data = pd.read_csv('house_price_us.txt', names=['size', 'n_room' ,'price'])\n",
        "data"
      ],
      "metadata": {
        "id": "pGMtAYJZFKWO"
      },
      "execution_count": null,
      "outputs": []
    },
    {
      "cell_type": "markdown",
      "source": [
        "# **(3) Variable 설정**"
      ],
      "metadata": {
        "id": "RXkIrhBdFK98"
      }
    },
    {
      "cell_type": "code",
      "source": [
        "#data의 갯수 : m --> 읽어들인 csv 파일의 줄 수 \n",
        "\n",
        "# file --> pandas의 datafreme --> numpy의 array --> tensor --> gradient descont \n",
        "# X1 -> size, X2 -> n_room, Y = price  ===> X  --> size, n_room\n",
        "\n",
        "X = np.c_[data['size'], data['n_room']]\n",
        "Y = data['price']\n",
        "m = len(data)\n",
        "\n",
        "print(X.shape, Y.shape)\n",
        "print(type(X))"
      ],
      "metadata": {
        "id": "39nP9Q05FbsH"
      },
      "execution_count": null,
      "outputs": []
    },
    {
      "cell_type": "markdown",
      "source": [
        "# **(4) 배열로 변환**"
      ],
      "metadata": {
        "id": "i8dybm8xFb_h"
      }
    },
    {
      "cell_type": "code",
      "source": [
        "X = (np.array(X)).reshape(m,2)\n",
        "Y = (np.array(Y)).reshape(m,1)\n",
        "\n",
        "print(X.shape, Y.shape)"
      ],
      "metadata": {
        "id": "sik117U7Fp23"
      },
      "execution_count": null,
      "outputs": []
    },
    {
      "cell_type": "markdown",
      "source": [
        "# **(5) 그래프로 그리기**"
      ],
      "metadata": {
        "id": "yjpkRHOOKG3F"
      }
    },
    {
      "cell_type": "code",
      "source": [
        "import matplotlib.pyplot as plt\n",
        "# size & price --> size: X의 0번째 열 --> X[:,0]\n",
        "plt.plot(X[:,0].reshape(-1), Y, '.b')\n",
        "plt.xlabel(\"size\")\n",
        "plt.ylabel(\"price\")\n",
        "plt.show()\n",
        "# n_room & price --> n_room : X의 1번째 열  --> X[:, 1]\n",
        "plt.plot(X[:,1].reshape(-1), Y, '.b')\n",
        "plt.xlabel(\"n_room\")\n",
        "plt.ylabel(\"price\")\n",
        "plt.show()"
      ],
      "metadata": {
        "id": "5_ptJ_KhKKqP"
      },
      "execution_count": null,
      "outputs": []
    },
    {
      "cell_type": "markdown",
      "source": [
        "# **(6) Feature scale (normalization)**"
      ],
      "metadata": {
        "id": "Jwwq_Ax5Fzv3"
      }
    },
    {
      "cell_type": "code",
      "source": [
        "# 네자리 수인 size와 한자리 수인 n_room을 같은 자리의 수로 바꾸자\n",
        "# 입력 : X(47,2) X의 0번째 열이  size, 1번째 열이 n_room\n",
        "def featureNormalize (X):\n",
        "  #1. 평균 (mu), 표준편차(std)를 계산\n",
        "  mu = np.mean(X, axis=0)\n",
        "  std = np.std(X, axis=0)\n",
        "  # print(mu.shape, std.shape)\n",
        "  X_norm = (X - mu) / std\n",
        "  return X_norm\n"
      ],
      "metadata": {
        "id": "7UB_KDuNF2zL"
      },
      "execution_count": null,
      "outputs": []
    },
    {
      "cell_type": "code",
      "source": [
        "X = featureNormalize(X)\n",
        "print(X.shape)"
      ],
      "metadata": {
        "id": "RPByP2BAKhN9"
      },
      "execution_count": null,
      "outputs": []
    },
    {
      "cell_type": "markdown",
      "source": [
        "# **(7) Tensor로 변환**"
      ],
      "metadata": {
        "id": "dYhnwD-AKyTa"
      }
    },
    {
      "cell_type": "code",
      "source": [
        "#Y = \n",
        "\n",
        "\n",
        "Xb = np.c_[np.ones((m,1)), X] # 1과 X를 붙여주세요 --> c_\n",
        "print(Xb.shape)\n",
        "# Tensor --> theta0 + theata1*x  --> (theta0, theta1) *(1,x)\n",
        "#X0 = np.ones((m, 1)) #ones는 1을 만들어달라라는 함수, (m,1) m개의 줄을 1을 만들어 달라\n",
        "#Xb = np.c_[X0, X1] # 1과 X를 붙여주세요 --> c_\n",
        "# print(Xb) \n",
        "\n"
      ],
      "metadata": {
        "id": "asUoZJjHK1_n"
      },
      "execution_count": null,
      "outputs": []
    },
    {
      "cell_type": "markdown",
      "source": [
        "# **(8) Gradient descent 변수 설정**"
      ],
      "metadata": {
        "id": "EcePjaBZF3DO"
      }
    },
    {
      "cell_type": "code",
      "source": [
        "#learning_rate : theta - learning_rate * gradient\n",
        "learning_rate = 0.1 #alpha : learning rate \n",
        "#반복횟수\n",
        "n_iter = 400\n",
        "#사용할 변수 초기화 : theta, gradient\n",
        "theta = np.random.randn(3,1)  # -> 임의의 수 랜덤 \n",
        "gradient = np.zeros((3,1))  # -> 벡터 shape ((2,1)) 괄호 안의 괄호 / (2,1) shape의 형태 값은 0 \n",
        "\n",
        "print(theta)\n",
        "print(gradient)"
      ],
      "metadata": {
        "id": "sAlZrC-4F9cp"
      },
      "execution_count": null,
      "outputs": []
    },
    {
      "cell_type": "markdown",
      "source": [
        "# **(9) Gradient descent 실행**"
      ],
      "metadata": {
        "id": "LWlF_yE7Gref"
      }
    },
    {
      "cell_type": "markdown",
      "source": [
        "###(9-1)loss함수 정의"
      ],
      "metadata": {
        "id": "w5oceVXacqLq"
      }
    },
    {
      "cell_type": "code",
      "source": [
        "def Compute_J (theta, Xb, Y):\n",
        "  #loss_term = 예측값 - 실측값 = theta * Xb - Y\n",
        "  loss_term = Xb.dot(theta) - Y \n",
        "  loss_term = loss_term.reshape(-1) # loss_term을 (249, 1) -> (249)\n",
        "\n",
        "  #loss 함수 : loss_term의 제곱의 평균\n",
        "  loss_term2 = np.square(loss_term)\n",
        "  loss_avg = np.sum(loss_term2 )/(2*m)\n",
        "  return loss_avg"
      ],
      "metadata": {
        "id": "R24srSX9G0An"
      },
      "execution_count": null,
      "outputs": []
    },
    {
      "cell_type": "markdown",
      "source": [
        "###(9-2) gradient descent 실행"
      ],
      "metadata": {
        "id": "edkavdgWdlDU"
      }
    },
    {
      "cell_type": "code",
      "source": [
        "loss_arr = []\n",
        "iter_arr = []\n",
        "for i in range(n_iter):\n",
        "  gradient = (1.0/m)*Xb.T.dot(Xb.dot(theta)-Y)\n",
        "  theta = theta - learning_rate * gradient\n",
        "  loss = Compute_J(theta, Xb, Y)\n",
        "  iter_arr.append(i)\n",
        "  loss_arr.append(loss)"
      ],
      "metadata": {
        "id": "SBKmCYQodrxk"
      },
      "execution_count": null,
      "outputs": []
    },
    {
      "cell_type": "markdown",
      "source": [
        "# **(10) 결과 확인**"
      ],
      "metadata": {
        "id": "RLbW_MUXG0YO"
      }
    },
    {
      "cell_type": "code",
      "source": [
        "theta"
      ],
      "metadata": {
        "id": "adrpnUiTG32M"
      },
      "execution_count": null,
      "outputs": []
    },
    {
      "cell_type": "code",
      "source": [
        "# n_iter & loss의 관계\n",
        "# iter_arr, loss_arr를 그려보자\n",
        "\n",
        "plt.plot(iter_arr, loss_arr, '.b')\n",
        "plt.xlabel(\"iteration\")\n",
        "plt.ylabel(\"loss\")"
      ],
      "metadata": {
        "id": "ETIv7Z27Jyry"
      },
      "execution_count": null,
      "outputs": []
    },
    {
      "cell_type": "code",
      "source": [
        ""
      ],
      "metadata": {
        "id": "LphKl4eNJ23D"
      },
      "execution_count": null,
      "outputs": []
    }
  ]
}