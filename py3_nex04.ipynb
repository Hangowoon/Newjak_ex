{
  "nbformat": 4,
  "nbformat_minor": 0,
  "metadata": {
    "colab": {
      "name": "py3_nex04.ipynb",
      "provenance": [],
      "collapsed_sections": [],
      "authorship_tag": "ABX9TyOaLswZj0rhT9a63IVPZ9gq",
      "include_colab_link": true
    },
    "kernelspec": {
      "name": "python3",
      "display_name": "Python 3"
    },
    "language_info": {
      "name": "python"
    }
  },
  "cells": [
    {
      "cell_type": "markdown",
      "metadata": {
        "id": "view-in-github",
        "colab_type": "text"
      },
      "source": [
        "<a href=\"https://colab.research.google.com/github/Hangowoon/Newjak_ex/blob/main/py3_nex04.ipynb\" target=\"_parent\"><img src=\"https://colab.research.google.com/assets/colab-badge.svg\" alt=\"Open In Colab\"/></a>"
      ]
    },
    {
      "cell_type": "markdown",
      "source": [
        "#3. 파이토치 기초"
      ],
      "metadata": {
        "id": "mSckxR8e7D_J"
      }
    },
    {
      "cell_type": "code",
      "execution_count": 1,
      "metadata": {
        "id": "ALyCI4_A65fu"
      },
      "outputs": [],
      "source": [
        "import torch"
      ]
    },
    {
      "cell_type": "code",
      "source": [
        "#함수\n",
        "def print_val(x):\n",
        "  print (\"Type :\", type(x))\n",
        "  print (\"Shape :\", x.shape)\n",
        "  print (\"값 : \\n\", x)\n",
        "  print (\" \")"
      ],
      "metadata": {
        "id": "9s-tPvq4DeBO"
      },
      "execution_count": 5,
      "outputs": []
    },
    {
      "cell_type": "code",
      "source": [
        "x = torch.rand(2,3,2) #uniform: 0~1 사이 모든 값들이 나올 확률이 같음\n",
        "print_val(x)"
      ],
      "metadata": {
        "colab": {
          "base_uri": "https://localhost:8080/"
        },
        "id": "vy7rsWAB7Nvg",
        "outputId": "9c311866-73c2-4022-cfda-5f481c7c78eb"
      },
      "execution_count": 6,
      "outputs": [
        {
          "output_type": "stream",
          "name": "stdout",
          "text": [
            "Type : <class 'torch.Tensor'>\n",
            "Shape : torch.Size([2, 3, 2])\n",
            "값 : \n",
            " tensor([[[0.8121, 0.5058],\n",
            "         [0.3196, 0.4573],\n",
            "         [0.8172, 0.3289]],\n",
            "\n",
            "        [[0.4058, 0.6293],\n",
            "         [0.3097, 0.3331],\n",
            "         [0.9932, 0.8878]]])\n",
            " \n"
          ]
        }
      ]
    },
    {
      "cell_type": "code",
      "source": [
        "x = torch.randn(2,3) #Gaussian : 0을 평균으로 하는 가우시안 분포를 따르는 랜덤값\n",
        "print_val(x)"
      ],
      "metadata": {
        "colab": {
          "base_uri": "https://localhost:8080/"
        },
        "id": "BpRsipAYDXBX",
        "outputId": "da712644-a61a-44f5-9ab7-55446b375378"
      },
      "execution_count": 8,
      "outputs": [
        {
          "output_type": "stream",
          "name": "stdout",
          "text": [
            "Type : <class 'torch.Tensor'>\n",
            "Shape : torch.Size([2, 3])\n",
            "값 : \n",
            " tensor([[ 0.5587,  1.1734,  0.1291],\n",
            "        [ 0.1407, -0.2800, -0.0177]])\n",
            " \n"
          ]
        }
      ]
    },
    {
      "cell_type": "code",
      "source": [
        "x = torch.randperm(20) #0~n-1까지 값을 원소로 갖는 배열 -> 랜덤 배열\n",
        "print_val(x)"
      ],
      "metadata": {
        "colab": {
          "base_uri": "https://localhost:8080/"
        },
        "id": "VSFWQljsEMZ8",
        "outputId": "25a22ff8-b4e9-4303-c814-9b78cc2a300c"
      },
      "execution_count": 14,
      "outputs": [
        {
          "output_type": "stream",
          "name": "stdout",
          "text": [
            "Type : <class 'torch.Tensor'>\n",
            "Shape : torch.Size([20])\n",
            "값 : \n",
            " tensor([ 0,  7,  1, 19,  2, 15, 17, 16, 18, 11,  8, 12,  9,  5,  4,  3, 13,  6,\n",
            "        10, 14])\n",
            " \n"
          ]
        }
      ]
    },
    {
      "cell_type": "code",
      "source": [
        "# [start, end] 구간을 step 단위로 나눠서 배열로 생성\n",
        "x = torch.arange(0,3,step=0.5)\n",
        "print_val(x)"
      ],
      "metadata": {
        "colab": {
          "base_uri": "https://localhost:8080/"
        },
        "id": "5e77HLa_E-90",
        "outputId": "69b41cdb-0353-4686-d33d-2fe1014bfd35"
      },
      "execution_count": 15,
      "outputs": [
        {
          "output_type": "stream",
          "name": "stdout",
          "text": [
            "Type : <class 'torch.Tensor'>\n",
            "Shape : torch.Size([6])\n",
            "값 : \n",
            " tensor([0.0000, 0.5000, 1.0000, 1.5000, 2.0000, 2.5000])\n",
            " \n"
          ]
        }
      ]
    },
    {
      "cell_type": "code",
      "source": [
        "print_val(torch.ones(3,4))"
      ],
      "metadata": {
        "colab": {
          "base_uri": "https://localhost:8080/"
        },
        "id": "ffVcoUKnFVwM",
        "outputId": "9656a7b0-9dd6-4c55-9720-e52c369ccad1"
      },
      "execution_count": 16,
      "outputs": [
        {
          "output_type": "stream",
          "name": "stdout",
          "text": [
            "Type : <class 'torch.Tensor'>\n",
            "Shape : torch.Size([3, 4])\n",
            "값 : \n",
            " tensor([[1., 1., 1., 1.],\n",
            "        [1., 1., 1., 1.],\n",
            "        [1., 1., 1., 1.]])\n",
            " \n"
          ]
        }
      ]
    },
    {
      "cell_type": "code",
      "source": [
        "print_val(torch.zeros(3,4))"
      ],
      "metadata": {
        "colab": {
          "base_uri": "https://localhost:8080/"
        },
        "id": "bGpuQFfCFhUF",
        "outputId": "5fab3e80-73f5-4df6-86f5-0ee9a48bea2c"
      },
      "execution_count": 18,
      "outputs": [
        {
          "output_type": "stream",
          "name": "stdout",
          "text": [
            "Type : <class 'torch.Tensor'>\n",
            "Shape : torch.Size([3, 4])\n",
            "값 : \n",
            " tensor([[0., 0., 0., 0.],\n",
            "        [0., 0., 0., 0.],\n",
            "        [0., 0., 0., 0.]])\n",
            " \n"
          ]
        }
      ]
    },
    {
      "cell_type": "code",
      "source": [
        "print_val(torch.Tensor(2,4))"
      ],
      "metadata": {
        "colab": {
          "base_uri": "https://localhost:8080/"
        },
        "id": "sCquNdv2FqtU",
        "outputId": "baec7cbf-7931-4a86-880b-a22e7d70f4d5"
      },
      "execution_count": 19,
      "outputs": [
        {
          "output_type": "stream",
          "name": "stdout",
          "text": [
            "Type : <class 'torch.Tensor'>\n",
            "Shape : torch.Size([2, 4])\n",
            "값 : \n",
            " tensor([[3.8490e-35, 0.0000e+00, 3.7835e-44, 0.0000e+00],\n",
            "        [       nan, 6.4460e-44, 1.3733e-14, 6.4069e+02]])\n",
            " \n"
          ]
        }
      ]
    },
    {
      "cell_type": "code",
      "source": [
        "print_val(torch.Tensor([2,3]))"
      ],
      "metadata": {
        "colab": {
          "base_uri": "https://localhost:8080/"
        },
        "id": "dhlXTydnF-g3",
        "outputId": "56819cb2-9785-4139-8abf-400d2638142a"
      },
      "execution_count": 20,
      "outputs": [
        {
          "output_type": "stream",
          "name": "stdout",
          "text": [
            "Type : <class 'torch.Tensor'>\n",
            "Shape : torch.Size([2])\n",
            "값 : \n",
            " tensor([2., 3.])\n",
            " \n"
          ]
        }
      ]
    },
    {
      "cell_type": "code",
      "source": [
        "print_val(torch.Tensor([[2,3],[3,4]]))"
      ],
      "metadata": {
        "colab": {
          "base_uri": "https://localhost:8080/"
        },
        "id": "m6kohfmWGNMl",
        "outputId": "f7d8836a-72d2-4737-b6f9-208878a129d7"
      },
      "execution_count": 21,
      "outputs": [
        {
          "output_type": "stream",
          "name": "stdout",
          "text": [
            "Type : <class 'torch.Tensor'>\n",
            "Shape : torch.Size([2, 2])\n",
            "값 : \n",
            " tensor([[2., 3.],\n",
            "        [3., 4.]])\n",
            " \n"
          ]
        }
      ]
    },
    {
      "cell_type": "code",
      "source": [
        "#텐서 타입 변환\n",
        "x = torch.FloatTensor(2,3)\n",
        "print_val(x)"
      ],
      "metadata": {
        "colab": {
          "base_uri": "https://localhost:8080/"
        },
        "id": "3DVgTjD9GhrW",
        "outputId": "5e376466-dfcb-4532-bfd3-2e85c472c089"
      },
      "execution_count": 22,
      "outputs": [
        {
          "output_type": "stream",
          "name": "stdout",
          "text": [
            "Type : <class 'torch.Tensor'>\n",
            "Shape : torch.Size([2, 3])\n",
            "값 : \n",
            " tensor([[1.2229e-34, 0.0000e+00, 7.0976e+22],\n",
            "        [1.0903e+27, 7.1220e+28, 6.9397e+22]])\n",
            " \n"
          ]
        }
      ]
    },
    {
      "cell_type": "code",
      "source": [
        "x = x.type_as(torch.IntTensor())\n",
        "print_val(x)"
      ],
      "metadata": {
        "colab": {
          "base_uri": "https://localhost:8080/"
        },
        "id": "1wxQBehSGu5l",
        "outputId": "cf09a15f-4c7c-49ab-b5e3-4be118fa89b5"
      },
      "execution_count": 24,
      "outputs": [
        {
          "output_type": "stream",
          "name": "stdout",
          "text": [
            "Type : <class 'torch.Tensor'>\n",
            "Shape : torch.Size([2, 3])\n",
            "값 : \n",
            " tensor([[          0,           0, -2147483648],\n",
            "        [-2147483648, -2147483648, -2147483648]], dtype=torch.int32)\n",
            " \n"
          ]
        }
      ]
    },
    {
      "cell_type": "code",
      "source": [
        "#텐서 크기 반환\n",
        "torch.FloatTensor(3,4,5).size()"
      ],
      "metadata": {
        "colab": {
          "base_uri": "https://localhost:8080/"
        },
        "id": "ZuUV_CjqHNEW",
        "outputId": "b5c92b64-de72-498b-f6ce-b111a63bd9c8"
      },
      "execution_count": 26,
      "outputs": [
        {
          "output_type": "execute_result",
          "data": {
            "text/plain": [
              "torch.Size([3, 4, 5])"
            ]
          },
          "metadata": {},
          "execution_count": 26
        }
      ]
    },
    {
      "cell_type": "code",
      "source": [
        "# numpy array -> torch tensor\n",
        "import numpy as np\n",
        "np_x = np.ndarray((2,3), dtype = int)\n",
        "print_val(np_x)"
      ],
      "metadata": {
        "colab": {
          "base_uri": "https://localhost:8080/"
        },
        "id": "vhQwJhbXHmb2",
        "outputId": "4bb2b612-e362-4fa9-9a15-b17f59c1eaf9"
      },
      "execution_count": 27,
      "outputs": [
        {
          "output_type": "stream",
          "name": "stdout",
          "text": [
            "Type : <class 'numpy.ndarray'>\n",
            "Shape : (2, 3)\n",
            "값 : \n",
            " [[119716560         0         0]\n",
            " [        0         0         0]]\n",
            " \n"
          ]
        }
      ]
    },
    {
      "cell_type": "code",
      "source": [
        "x = torch.from_numpy(np_x)\n",
        "print_val(x)"
      ],
      "metadata": {
        "colab": {
          "base_uri": "https://localhost:8080/"
        },
        "id": "MEOPa4muID6-",
        "outputId": "b3332114-0810-49c6-d411-4d61f3d6e894"
      },
      "execution_count": 28,
      "outputs": [
        {
          "output_type": "stream",
          "name": "stdout",
          "text": [
            "Type : <class 'torch.Tensor'>\n",
            "Shape : torch.Size([2, 3])\n",
            "값 : \n",
            " tensor([[119716560,         0,         0],\n",
            "        [        0,         0,         0]])\n",
            " \n"
          ]
        }
      ]
    },
    {
      "cell_type": "code",
      "source": [
        "# torch tensor -> numpy array\n",
        "tp_x = x.numpy()\n",
        "print_val(tp_x)"
      ],
      "metadata": {
        "colab": {
          "base_uri": "https://localhost:8080/"
        },
        "id": "Kgj-zfNJIWE1",
        "outputId": "196b45dd-b67f-4f24-8db4-047a56b1db2f"
      },
      "execution_count": 29,
      "outputs": [
        {
          "output_type": "stream",
          "name": "stdout",
          "text": [
            "Type : <class 'numpy.ndarray'>\n",
            "Shape : (2, 3)\n",
            "값 : \n",
            " [[119716560         0         0]\n",
            " [        0         0         0]]\n",
            " \n"
          ]
        }
      ]
    }
  ]
}