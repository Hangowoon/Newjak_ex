{
  "nbformat": 4,
  "nbformat_minor": 0,
  "metadata": {
    "colab": {
      "name": "ML08 - logistic regression.ipynb",
      "private_outputs": true,
      "provenance": [],
      "collapsed_sections": [],
      "include_colab_link": true
    },
    "kernelspec": {
      "name": "python3",
      "display_name": "Python 3"
    },
    "language_info": {
      "name": "python"
    }
  },
  "cells": [
    {
      "cell_type": "markdown",
      "metadata": {
        "id": "view-in-github",
        "colab_type": "text"
      },
      "source": [
        "<a href=\"https://colab.research.google.com/github/Hangowoon/Newjak_ex/blob/main/ML08_logistic_regression.ipynb\" target=\"_parent\"><img src=\"https://colab.research.google.com/assets/colab-badge.svg\" alt=\"Open In Colab\"/></a>"
      ]
    },
    {
      "cell_type": "markdown",
      "source": [
        "# **(1) import libraries**"
      ],
      "metadata": {
        "id": "feuX_d9p7EuF"
      }
    },
    {
      "cell_type": "code",
      "execution_count": null,
      "metadata": {
        "id": "OXC0w14i7BKr"
      },
      "outputs": [],
      "source": [
        "#넘파이 numpy 판다스 pandas\n",
        "import numpy as np\n",
        "import pandas as pd"
      ]
    },
    {
      "cell_type": "markdown",
      "source": [
        "# **(2) data loading**"
      ],
      "metadata": {
        "id": "81cx9c8D7Kp9"
      }
    },
    {
      "cell_type": "code",
      "source": [
        "# nbasta2022.csv를 사용\n",
        "from google.colab import files \n",
        "files.upload()\n",
        "data = pd.read_csv('admit.txt', names=['test1', 'test2' ,'admit'])\n",
        "print(data)"
      ],
      "metadata": {
        "id": "ZkK7R5Ah7N2k"
      },
      "execution_count": null,
      "outputs": []
    },
    {
      "cell_type": "markdown",
      "source": [
        "# **(3) array로 저장**"
      ],
      "metadata": {
        "id": "mwwdHN7T7OIe"
      }
    },
    {
      "cell_type": "code",
      "source": [
        "X = np.c_[data['test1'], data['test2']]\n",
        "Y = data['admit']\n",
        "m = len(data)\n",
        "\n",
        "print(X.shape, Y.shape)\n",
        "print(type(X))\n",
        "\n",
        "X = (np.array(X)).reshape(m,2)\n",
        "Y = (np.array(Y)).reshape(m,1)\n",
        "\n",
        "print(X.shape, Y.shape)\n",
        "print(type(X))"
      ],
      "metadata": {
        "id": "Syud7AqQ7SwV"
      },
      "execution_count": null,
      "outputs": []
    },
    {
      "cell_type": "markdown",
      "source": [
        "# **(4) 그래프 그리기**"
      ],
      "metadata": {
        "id": "CeQHODJe7TPm"
      }
    },
    {
      "cell_type": "code",
      "source": [
        "# X의 값을 pos (y=1), neg (y=0)으로 구분\n",
        "# pos인 X는 원으로, neg의 X는 +로 그리자\n",
        "# pos인 배열을 만들고 여기에 y = 1 인 x의 index를 저장\n",
        "# neg인 배열을 만들고 여기에 y = 0 인 x의 index를 저장\n",
        "\n",
        "pos = []\n",
        "neg = []\n",
        "\n",
        "for (i, val) in enumerate (Y): #(i, val) 에서 val은 Y[i]\n",
        "  if val == 1:\n",
        "    pos.append(i)\n",
        "  else:\n",
        "    neg.append(i)\n",
        "\n",
        "print(pos)\n",
        "print(neg)"
      ],
      "metadata": {
        "id": "gTfzkQ8p7We1"
      },
      "execution_count": null,
      "outputs": []
    },
    {
      "cell_type": "code",
      "source": [
        "import matplotlib.pyplot as plt\n",
        "#pos인 X  --> X[pos]\n",
        "#plt(X.plot) (첫번째 좌표, 두번째 좌표)\n",
        "# 첫번째 좌표 : X[pos, 0], 두번째 좌표 : x[pos, 1]\n",
        "plt.plot(X[pos, 0], X[pos, 1], 'b+', label = 'positive')\n",
        "plt.plot(X[neg, 0], X[neg, 1], 'ro', label = 'negative')\n",
        "plt.xlabel(\"test1\")\n",
        "plt.ylabel(\"test2\")\n",
        "plt.legend(loc = 'upper right' )\n",
        "plt.show()"
      ],
      "metadata": {
        "id": "hraPHwia8bYF"
      },
      "execution_count": null,
      "outputs": []
    },
    {
      "cell_type": "markdown",
      "source": [
        "# **(5) 학습 (sklearn 사용)**"
      ],
      "metadata": {
        "id": "fSMmvhpQ7WxV"
      }
    },
    {
      "cell_type": "code",
      "source": [
        "from sklearn.linear_model import LogisticRegression\n",
        "\n",
        "model = LogisticRegression(solver = 'liblinear', C=10)\n",
        "model.fit(X, Y)"
      ],
      "metadata": {
        "id": "vu3sw2Nk7eaE"
      },
      "execution_count": null,
      "outputs": []
    },
    {
      "cell_type": "markdown",
      "source": [
        "# **(6) 결과 출력**"
      ],
      "metadata": {
        "id": "Boauun9x7aqd"
      }
    },
    {
      "cell_type": "code",
      "source": [
        "model.predict([[30,70],[80,80]])"
      ],
      "metadata": {
        "id": "Odbz5h2b7bO9"
      },
      "execution_count": null,
      "outputs": []
    },
    {
      "cell_type": "markdown",
      "source": [
        "# **(7) decision boundary 그리기**"
      ],
      "metadata": {
        "id": "C_9nyt-i7jz-"
      }
    },
    {
      "cell_type": "code",
      "source": [
        "plt.plot(X[pos, 0], X[pos, 1], 'b+', label = 'positive')\n",
        "plt.plot(X[neg, 0], X[neg, 1], 'ro', label = 'negative')\n",
        "plt.xlabel(\"test1\")\n",
        "plt.ylabel(\"test2\")\n",
        "plt.legend(loc = 'upper right' )\n",
        "\n",
        "#decision boundery : 어떤 직선 --> ax + by + c = 0 --> ax + by + c > 0\n",
        "#직선 + 영역 --> 영역으 작은 사각형들로 나누고, 그 각 사각형들이 직선의 위에 속하는지, 아래에 속하는지를 색으로 표시 \n",
        "# 사각형을 긜 영역 : (xmin, xmax)(ymin, ymax)\n",
        "xmin, xmax = X[:, 0].min(), X[:, 0].max()\n",
        "ymin, ymax = X[:, 1].min(), X[:, 1].max()\n",
        "\n",
        "h = 0.2 #사각형의 크기 \n",
        "xx, yy = np.meshgrid(np.arange(xmin, xmax, h), np.arange(ymin, ymax, h))\n",
        "Z = model.predict(np.c_[xx.ravel(), yy.ravel()])\n",
        "\n",
        "Z = Z.reshape(xx.shape)\n",
        "plt.figure(1)\n",
        "plt.pcolormesh(xx, yy, Z, cmap = plt.cm.Paired)\n",
        "\n",
        "print(Z)\n",
        "plt.show()"
      ],
      "metadata": {
        "id": "M76g0vwq7mbM"
      },
      "execution_count": null,
      "outputs": []
    },
    {
      "cell_type": "code",
      "source": [
        ""
      ],
      "metadata": {
        "id": "N9mbZ_yb8jfl"
      },
      "execution_count": null,
      "outputs": []
    }
  ]
}