{
  "nbformat": 4,
  "nbformat_minor": 0,
  "metadata": {
    "colab": {
      "name": "py3_nex02.ipynb",
      "provenance": [],
      "collapsed_sections": [],
      "authorship_tag": "ABX9TyOGYcBfpm1mPhbbSexKDEuJ",
      "include_colab_link": true
    },
    "kernelspec": {
      "name": "python3",
      "display_name": "Python 3"
    },
    "language_info": {
      "name": "python"
    }
  },
  "cells": [
    {
      "cell_type": "markdown",
      "metadata": {
        "id": "view-in-github",
        "colab_type": "text"
      },
      "source": [
        "<a href=\"https://colab.research.google.com/github/Hangowoon/Newjak_ex/blob/main/py3_nex02.ipynb\" target=\"_parent\"><img src=\"https://colab.research.google.com/assets/colab-badge.svg\" alt=\"Open In Colab\"/></a>"
      ]
    },
    {
      "cell_type": "markdown",
      "source": [
        "#2. 벡터, 행렬 연산, 그래프 그리기"
      ],
      "metadata": {
        "id": "XIXMMrmxLYAO"
      }
    },
    {
      "cell_type": "markdown",
      "source": [
        "###1) 라이브러리(패키지) 로드"
      ],
      "metadata": {
        "id": "ASyn9WMJaaFl"
      }
    },
    {
      "cell_type": "code",
      "source": [
        "import numpy as np"
      ],
      "metadata": {
        "id": "Yg01i4sZBJDD"
      },
      "execution_count": null,
      "outputs": []
    },
    {
      "cell_type": "markdown",
      "source": [
        "###2) 프린트"
      ],
      "metadata": {
        "id": "tng3acsJalN0"
      }
    },
    {
      "cell_type": "code",
      "source": [
        "#함수\n",
        "def print_val(x):\n",
        "  print (\"Type :\", type(x))\n",
        "  print (\"Shape :\", x.shape)\n",
        "  print (\"값 : \\n\", x)\n",
        "  print (\" \")"
      ],
      "metadata": {
        "id": "g2yN3yfvajif"
      },
      "execution_count": null,
      "outputs": []
    },
    {
      "cell_type": "markdown",
      "source": [
        "rank 1 np array"
      ],
      "metadata": {
        "id": "El5HMkPqbj62"
      }
    },
    {
      "cell_type": "code",
      "source": [
        "x = np.array([1,2,3])\n",
        "print_val(x)\n",
        "\n",
        "x[0] = 5\n",
        "print_val(x)"
      ],
      "metadata": {
        "colab": {
          "base_uri": "https://localhost:8080/"
        },
        "id": "1sGixSoMbHyt",
        "outputId": "f027453a-494e-4e26-9658-5e7f2c518967"
      },
      "execution_count": null,
      "outputs": [
        {
          "output_type": "stream",
          "name": "stdout",
          "text": [
            "Type : <class 'numpy.ndarray'>\n",
            "Shape : (3,)\n",
            "값 : \n",
            " [1 2 3]\n",
            " \n",
            "Type : <class 'numpy.ndarray'>\n",
            "Shape : (3,)\n",
            "값 : \n",
            " [5 2 3]\n",
            " \n"
          ]
        }
      ]
    },
    {
      "cell_type": "markdown",
      "source": [
        "rank 2 np array"
      ],
      "metadata": {
        "id": "D_eD_v1pcf32"
      }
    },
    {
      "cell_type": "code",
      "source": [
        "y = np.array([[1,2,3],[4,5,6]])\n",
        "print_val(y)"
      ],
      "metadata": {
        "colab": {
          "base_uri": "https://localhost:8080/"
        },
        "id": "uLpTwFm8b_a0",
        "outputId": "74f6e4d7-07a6-48f6-9ee3-8159d321e73c"
      },
      "execution_count": null,
      "outputs": [
        {
          "output_type": "stream",
          "name": "stdout",
          "text": [
            "Type : <class 'numpy.ndarray'>\n",
            "Shape : (2, 3)\n",
            "값 : \n",
            " [[1 2 3]\n",
            " [4 5 6]]\n",
            " \n"
          ]
        }
      ]
    },
    {
      "cell_type": "markdown",
      "source": [
        "rank 2 zeros"
      ],
      "metadata": {
        "id": "_DslbiQEc42N"
      }
    },
    {
      "cell_type": "code",
      "source": [
        "a = np.zeros((2,2))\n",
        "print_val(a)"
      ],
      "metadata": {
        "colab": {
          "base_uri": "https://localhost:8080/"
        },
        "id": "5NyVzrt-c0Fj",
        "outputId": "33ab290d-7c73-4531-afe8-907738a1cd39"
      },
      "execution_count": null,
      "outputs": [
        {
          "output_type": "stream",
          "name": "stdout",
          "text": [
            "Type : <class 'numpy.ndarray'>\n",
            "Shape : (2, 2)\n",
            "값 : \n",
            " [[0. 0.]\n",
            " [0. 0.]]\n",
            " \n"
          ]
        }
      ]
    },
    {
      "cell_type": "markdown",
      "source": [
        "rank 2 ones"
      ],
      "metadata": {
        "id": "6WXIBT3HdLy2"
      }
    },
    {
      "cell_type": "code",
      "source": [
        "a = np.ones((3,2))\n",
        "print_val(a)"
      ],
      "metadata": {
        "colab": {
          "base_uri": "https://localhost:8080/"
        },
        "id": "aJ2ROUWLdIHN",
        "outputId": "305f1059-dbf1-4f2c-c2c2-7de06fd32552"
      },
      "execution_count": null,
      "outputs": [
        {
          "output_type": "stream",
          "name": "stdout",
          "text": [
            "Type : <class 'numpy.ndarray'>\n",
            "Shape : (3, 2)\n",
            "값 : \n",
            " [[1. 1.]\n",
            " [1. 1.]\n",
            " [1. 1.]]\n",
            " \n"
          ]
        }
      ]
    },
    {
      "cell_type": "markdown",
      "source": [
        "rank 2 단위 행렬(identity matrix)"
      ],
      "metadata": {
        "id": "ZrXXKawSdo2H"
      }
    },
    {
      "cell_type": "code",
      "source": [
        "a = np.eye(3,3)\n",
        "print_val(a)"
      ],
      "metadata": {
        "colab": {
          "base_uri": "https://localhost:8080/"
        },
        "id": "aZTTi5KWdcJl",
        "outputId": "ccf9111a-d17c-42f1-f949-7c1129c17eb7"
      },
      "execution_count": null,
      "outputs": [
        {
          "output_type": "stream",
          "name": "stdout",
          "text": [
            "Type : <class 'numpy.ndarray'>\n",
            "Shape : (3, 3)\n",
            "값 : \n",
            " [[1. 0. 0.]\n",
            " [0. 1. 0.]\n",
            " [0. 0. 1.]]\n",
            " \n"
          ]
        }
      ]
    },
    {
      "cell_type": "code",
      "source": [
        ""
      ],
      "metadata": {
        "id": "YmnhuMoJd99v"
      },
      "execution_count": null,
      "outputs": []
    }
  ]
}