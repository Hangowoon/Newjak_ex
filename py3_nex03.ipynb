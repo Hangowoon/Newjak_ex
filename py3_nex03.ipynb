{
  "nbformat": 4,
  "nbformat_minor": 0,
  "metadata": {
    "colab": {
      "name": "py3_nex03.ipynb",
      "provenance": [],
      "collapsed_sections": [],
      "authorship_tag": "ABX9TyNqcl+KmBXLLzhu3A/iXzrZ",
      "include_colab_link": true
    },
    "kernelspec": {
      "name": "python3",
      "display_name": "Python 3"
    },
    "language_info": {
      "name": "python"
    }
  },
  "cells": [
    {
      "cell_type": "markdown",
      "metadata": {
        "id": "view-in-github",
        "colab_type": "text"
      },
      "source": [
        "<a href=\"https://colab.research.google.com/github/Hangowoon/Newjak_ex/blob/main/py3_nex03.ipynb\" target=\"_parent\"><img src=\"https://colab.research.google.com/assets/colab-badge.svg\" alt=\"Open In Colab\"/></a>"
      ]
    },
    {
      "cell_type": "code",
      "execution_count": 1,
      "metadata": {
        "id": "33YZEkag1IvE"
      },
      "outputs": [],
      "source": [
        "import numpy as np"
      ]
    },
    {
      "cell_type": "markdown",
      "source": [
        "문1)Tensor 개념\n",
        "- {scalar, vector, matrix}, rank, shape, array\n",
        "- 다음 array([[1,2,3,4],[5,6,7,8],[9,10,11,12]])\n",
        "rank = ? (2)\n",
        "shape = ? (3,4)"
      ],
      "metadata": {
        "id": "XUFJKrR57qpl"
      }
    },
    {
      "cell_type": "code",
      "source": [
        "a = np.array([[1,2,3,4],[5,6,7,8],[9,10,11,12]])\n",
        "print (\"Shape : \" ,a.shape )"
      ],
      "metadata": {
        "colab": {
          "base_uri": "https://localhost:8080/"
        },
        "id": "VTUu3Gdm1qgg",
        "outputId": "a8901109-0612-4fe8-ca77-b621e957a458"
      },
      "execution_count": 4,
      "outputs": [
        {
          "output_type": "stream",
          "name": "stdout",
          "text": [
            "Shape :  (3, 4)\n"
          ]
        }
      ]
    },
    {
      "cell_type": "markdown",
      "source": [
        "문2)구구단 프로그래밍"
      ],
      "metadata": {
        "id": "-oox_EGc3rXr"
      }
    },
    {
      "cell_type": "code",
      "source": [
        "#함수선언\n",
        "def func(x):\n",
        "  contents = [1,2,3,4,5,6,7,8,9]\n",
        "  #for문 \n",
        "  for con in contents:\n",
        "    #여러줄\n",
        "    #print(x*con,',', end = '\\n')\n",
        "    #한줄\n",
        "    print(x*con, ',', end = '')\n",
        "func(2)\n"
      ],
      "metadata": {
        "colab": {
          "base_uri": "https://localhost:8080/"
        },
        "id": "LHYaaXLh2X-_",
        "outputId": "aa855cc3-8282-452c-b547-d88ba3e42ac0"
      },
      "execution_count": 15,
      "outputs": [
        {
          "output_type": "stream",
          "name": "stdout",
          "text": [
            "2 ,4 ,6 ,8 ,10 ,12 ,14 ,16 ,18 ,"
          ]
        }
      ]
    },
    {
      "cell_type": "markdown",
      "source": [
        "복습하기!!"
      ],
      "metadata": {
        "id": "OkYiEI9sAY-v"
      }
    },
    {
      "cell_type": "code",
      "source": [
        "#프린트 \n",
        "print(\"Hello, world\")"
      ],
      "metadata": {
        "colab": {
          "base_uri": "https://localhost:8080/"
        },
        "id": "rAwaYBeU5SXJ",
        "outputId": "2778faa1-c42c-4c76-f6b7-851f28836b07"
      },
      "execution_count": 16,
      "outputs": [
        {
          "output_type": "stream",
          "name": "stdout",
          "text": [
            "Hello, world\n"
          ]
        }
      ]
    },
    {
      "cell_type": "code",
      "source": [
        "#integer\n",
        "x = 3\n",
        "print (\"정수 : %01d\" %(x))"
      ],
      "metadata": {
        "colab": {
          "base_uri": "https://localhost:8080/"
        },
        "id": "HdlyFnBhAid-",
        "outputId": "2839db14-fa51-4761-e41e-82152b93ac29"
      },
      "execution_count": 18,
      "outputs": [
        {
          "output_type": "stream",
          "name": "stdout",
          "text": [
            "정수 : 3\n"
          ]
        }
      ]
    },
    {
      "cell_type": "code",
      "source": [
        "#float\n",
        "x = 256.123\n",
        "print(\"실수 : %.3f\" %x)"
      ],
      "metadata": {
        "colab": {
          "base_uri": "https://localhost:8080/"
        },
        "id": "A-iA4LzbA0Wt",
        "outputId": "7e75ea19-d7c0-48e2-d38f-c4c290108159"
      },
      "execution_count": 19,
      "outputs": [
        {
          "output_type": "stream",
          "name": "stdout",
          "text": [
            "실수 : 256.123\n"
          ]
        }
      ]
    },
    {
      "cell_type": "code",
      "source": [
        "#string\n",
        "x = \"hello, world\"\n",
        "print(\"문자열 : %s\" %x)"
      ],
      "metadata": {
        "colab": {
          "base_uri": "https://localhost:8080/"
        },
        "id": "smKXCZ2BB03-",
        "outputId": "9c469bff-b71c-4dfe-a479-5de0f6f03ac9"
      },
      "execution_count": 20,
      "outputs": [
        {
          "output_type": "stream",
          "name": "stdout",
          "text": [
            "문자열 : hello, world\n"
          ]
        }
      ]
    },
    {
      "cell_type": "code",
      "source": [
        "#반복문, 조건문\n",
        "#변수 선언\n",
        "contents = [\"a\", \"b\", \"c\", \"d\"]\n",
        "#for문 / if문\n",
        "for con in contents:\n",
        "  if con in [\"a\", \"b\"]:\n",
        "    print(\"%s는 최상 입니다.\" %con)\n",
        "  elif con in [\"c\"]:\n",
        "    print(\"%s는 중간 입니다.\" %con)\n",
        "  else:\n",
        "    print(\"%s는 최하 입니다.\" %con)"
      ],
      "metadata": {
        "colab": {
          "base_uri": "https://localhost:8080/"
        },
        "id": "G0wJKJNICChE",
        "outputId": "dd7274a8-ccc4-445e-94d8-2845acc3b371"
      },
      "execution_count": 23,
      "outputs": [
        {
          "output_type": "stream",
          "name": "stdout",
          "text": [
            "a는 최상 입니다.\n",
            "b는 최상 입니다.\n",
            "c는 중간 입니다.\n",
            "d는 최하 입니다.\n"
          ]
        }
      ]
    },
    {
      "cell_type": "code",
      "source": [
        "#반복문과 인덱스\n",
        "for (i, con) in enumerate(contents):"
      ],
      "metadata": {
        "id": "n8Y2hRUyEiFJ"
      },
      "execution_count": null,
      "outputs": []
    }
  ]
}