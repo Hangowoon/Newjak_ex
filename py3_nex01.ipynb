{
  "nbformat": 4,
  "nbformat_minor": 0,
  "metadata": {
    "colab": {
      "name": "py3_nex01.ipynb",
      "provenance": [],
      "collapsed_sections": [],
      "authorship_tag": "ABX9TyP0/GvydIcML9scAvvBVuAn",
      "include_colab_link": true
    },
    "kernelspec": {
      "name": "python3",
      "display_name": "Python 3"
    },
    "language_info": {
      "name": "python"
    }
  },
  "cells": [
    {
      "cell_type": "markdown",
      "metadata": {
        "id": "view-in-github",
        "colab_type": "text"
      },
      "source": [
        "<a href=\"https://colab.research.google.com/github/Hangowoon/Newjak_ex/blob/main/py3_nex01.ipynb\" target=\"_parent\"><img src=\"https://colab.research.google.com/assets/colab-badge.svg\" alt=\"Open In Colab\"/></a>"
      ]
    },
    {
      "cell_type": "markdown",
      "source": [
        "#1. 파이썬 기초(optional)\n"
      ],
      "metadata": {
        "id": "of7iI03soAha"
      }
    },
    {
      "cell_type": "markdown",
      "source": [
        "###라이브러리(패기지)로드"
      ],
      "metadata": {
        "id": "2oZjsJk8H158"
      }
    },
    {
      "cell_type": "code",
      "source": [
        "import numpy as np"
      ],
      "metadata": {
        "id": "oeNSdCvtHitV"
      },
      "execution_count": null,
      "outputs": []
    },
    {
      "cell_type": "markdown",
      "source": [
        "###1) 프린트"
      ],
      "metadata": {
        "id": "wZPfAAYWoQtw"
      }
    },
    {
      "cell_type": "code",
      "execution_count": 7,
      "metadata": {
        "colab": {
          "base_uri": "https://localhost:8080/"
        },
        "id": "NerJnAoETK9u",
        "outputId": "09e01079-a17b-4820-b34b-4ec7a6680941"
      },
      "outputs": [
        {
          "output_type": "stream",
          "name": "stdout",
          "text": [
            "Hello, world\n",
            "정수 : 3, 3, 03, 003, 0003, 00003\n"
          ]
        }
      ],
      "source": [
        "print (\"Hello, world\")\n",
        "\n",
        "# integer\n",
        "x = 3\n",
        "print(\"정수 : %d, %01d, %02d, %03d, %04d, %05d\" %(x,x,x,x,x,x))"
      ]
    },
    {
      "cell_type": "code",
      "source": [
        "# float\n",
        "x = 256.123\n",
        "print(\"실수 : %f, %.0f, %.1f, %.2f\" %(x,x,x,x))"
      ],
      "metadata": {
        "colab": {
          "base_uri": "https://localhost:8080/"
        },
        "id": "5EH0PUGgm6Np",
        "outputId": "8009e4db-5f63-41aa-c630-b3784d0f133f"
      },
      "execution_count": 6,
      "outputs": [
        {
          "output_type": "stream",
          "name": "stdout",
          "text": [
            "실수 : 256.123000, 256, 256.1, 256.12\n"
          ]
        }
      ]
    },
    {
      "cell_type": "code",
      "source": [
        "# string\n",
        "x = \"Hello, world\"\n",
        "print(\"문자열 : [%s]\" %(x))"
      ],
      "metadata": {
        "colab": {
          "base_uri": "https://localhost:8080/"
        },
        "id": "30oVc7fvnYUI",
        "outputId": "16616a11-9f7f-4926-b5c4-e7f5da1d7fc3"
      },
      "execution_count": 8,
      "outputs": [
        {
          "output_type": "stream",
          "name": "stdout",
          "text": [
            "문자열 : [Hello, world]\n"
          ]
        }
      ]
    },
    {
      "cell_type": "markdown",
      "source": [
        "###2) 반복문, 조건문"
      ],
      "metadata": {
        "id": "RzqLLbDtoKr4"
      }
    },
    {
      "cell_type": "code",
      "source": [
        "contents = [\"Regression\", \"Classification\", \"SYM\", \"Clustering\", \"Demension reduction\", \"NN\", \"CNN\", \"AE\", \"GAN\", \"RNN\" ]\n",
        "for con in contents:\n",
        "  if con in [\"Regression\", \"Classification\", \"SYM\", \"Clustering\", \"Demension reduction\"]:\n",
        "    print(\"%s은(는) 기계학습 내용입니다.\" %con)\n",
        "  elif con in [\"CNN\"]:\n",
        "    print(\"%s은(는) convolutional neural network 입니다.\" %con)\n",
        "  else:\n",
        "    print(\"%s은(는) 심층학습 내용입니다.\" %con)"
      ],
      "metadata": {
        "colab": {
          "base_uri": "https://localhost:8080/"
        },
        "id": "sxo_RIyZn8yY",
        "outputId": "c288ad7f-cf01-4a05-a7f8-84b0d40f3c53"
      },
      "execution_count": 11,
      "outputs": [
        {
          "output_type": "stream",
          "name": "stdout",
          "text": [
            "Regression은(는) 기계학습 내용입니다.\n",
            "Classification은(는) 기계학습 내용입니다.\n",
            "SYM은(는) 기계학습 내용입니다.\n",
            "Clustering은(는) 기계학습 내용입니다.\n",
            "Demension reduction은(는) 기계학습 내용입니다.\n",
            "NN은(는) 심층학습 내용입니다.\n",
            "CNN은(는) convolutional neural network 입니다.\n",
            "AE은(는) 심층학습 내용입니다.\n",
            "GAN은(는) 심층학습 내용입니다.\n",
            "RNN은(는) 심층학습 내용입니다.\n"
          ]
        }
      ]
    },
    {
      "cell_type": "markdown",
      "source": [
        "###3) 반복문과 인덱스"
      ],
      "metadata": {
        "id": "PRsuFUOoqqYa"
      }
    },
    {
      "cell_type": "code",
      "source": [
        "for (i,con) in enumerate(contents):\n",
        "  print(\"[%d/%d] : %s\" %(i, len(contents), con))"
      ],
      "metadata": {
        "colab": {
          "base_uri": "https://localhost:8080/"
        },
        "id": "vBi2qBWcp3uq",
        "outputId": "7407b320-e258-44f6-f384-cc7eccafba72"
      },
      "execution_count": 12,
      "outputs": [
        {
          "output_type": "stream",
          "name": "stdout",
          "text": [
            "[0/10] : Regression\n",
            "[1/10] : Classification\n",
            "[2/10] : SYM\n",
            "[3/10] : Clustering\n",
            "[4/10] : Demension reduction\n",
            "[5/10] : NN\n",
            "[6/10] : CNN\n",
            "[7/10] : AE\n",
            "[8/10] : GAN\n",
            "[9/10] : RNN\n"
          ]
        }
      ]
    },
    {
      "cell_type": "markdown",
      "source": [
        "###4) 함수"
      ],
      "metadata": {
        "id": "u-HaJ6JFwE0j"
      }
    },
    {
      "cell_type": "code",
      "source": [
        "def sum(a,b):\n",
        "  return a+b\n",
        "\n",
        "x = 10.0\n",
        "y = 20.0\n",
        "print(\"%.1f + %.1f = %.1f\" %(x, y, sum(x,y)))"
      ],
      "metadata": {
        "colab": {
          "base_uri": "https://localhost:8080/"
        },
        "id": "OybUL94brxkZ",
        "outputId": "dc08a3b8-ba56-4452-a343-da2792e1d22b"
      },
      "execution_count": 16,
      "outputs": [
        {
          "output_type": "stream",
          "name": "stdout",
          "text": [
            "10.0 + 20.0 = 30.0\n"
          ]
        }
      ]
    },
    {
      "cell_type": "markdown",
      "source": [
        "###5) 리스트"
      ],
      "metadata": {
        "id": "FlWAIBqa0Fdx"
      }
    },
    {
      "cell_type": "code",
      "source": [
        "a = []\n",
        "b = [1,2,3]\n",
        "c = [\"Hello\", \",\", \"world\"]\n",
        "d = [1,2,3,\"x\",\"y\",\"z\"]\n",
        "x = []\n",
        "print(x)"
      ],
      "metadata": {
        "colab": {
          "base_uri": "https://localhost:8080/"
        },
        "id": "CFStPxlZxIGi",
        "outputId": "9e13d767-9ae3-496e-c0f6-226f526d7a53"
      },
      "execution_count": 17,
      "outputs": [
        {
          "output_type": "stream",
          "name": "stdout",
          "text": [
            "[]\n"
          ]
        }
      ]
    },
    {
      "cell_type": "code",
      "source": [
        "x.append('a')\n",
        "print(x)"
      ],
      "metadata": {
        "colab": {
          "base_uri": "https://localhost:8080/"
        },
        "id": "C5SBhp1e1ID_",
        "outputId": "fa702b38-5b14-48cf-85a5-451065e35d2a"
      },
      "execution_count": 18,
      "outputs": [
        {
          "output_type": "stream",
          "name": "stdout",
          "text": [
            "['a']\n"
          ]
        }
      ]
    },
    {
      "cell_type": "code",
      "source": [
        "x.append(123)\n",
        "print(x)"
      ],
      "metadata": {
        "colab": {
          "base_uri": "https://localhost:8080/"
        },
        "id": "9Qg6TFwi1K-B",
        "outputId": "acc9d994-0f69-4aea-cfa3-cd449fc244bf"
      },
      "execution_count": 19,
      "outputs": [
        {
          "output_type": "stream",
          "name": "stdout",
          "text": [
            "['a', 123]\n"
          ]
        }
      ]
    },
    {
      "cell_type": "code",
      "source": [
        "x.append([\"a\", \"b\"])\n",
        "print (x)"
      ],
      "metadata": {
        "colab": {
          "base_uri": "https://localhost:8080/"
        },
        "id": "8hr1_1Po1P8J",
        "outputId": "fbe696d9-3a23-4d45-fcaf-1f933f81ea91"
      },
      "execution_count": 21,
      "outputs": [
        {
          "output_type": "stream",
          "name": "stdout",
          "text": [
            "['a', 123, ['a', 'b']]\n"
          ]
        }
      ]
    },
    {
      "cell_type": "markdown",
      "source": [
        "###6) 딕셔너리(dictionary)"
      ],
      "metadata": {
        "id": "wSMeGDsL3Fhz"
      }
    },
    {
      "cell_type": "code",
      "source": [
        "dic = dict()\n",
        "dic[\"name\"] = \"Heekyung\"\n",
        "dic[\"town\"] = \"Goyang city\"\n",
        "dic[\"job\"] = \"Assistant professor\"\n",
        "print (dic)"
      ],
      "metadata": {
        "colab": {
          "base_uri": "https://localhost:8080/"
        },
        "id": "T4ivyDMB1pJa",
        "outputId": "41ca13ee-496b-475b-fe67-5950fb7036d9"
      },
      "execution_count": 24,
      "outputs": [
        {
          "output_type": "stream",
          "name": "stdout",
          "text": [
            "{'name': 'Heekyung', 'town': 'Goyang city', 'job': 'Assistant professor'}\n"
          ]
        }
      ]
    },
    {
      "cell_type": "markdown",
      "source": [
        "###7) 클래스"
      ],
      "metadata": {
        "id": "TKgwWHNJ48qK"
      }
    },
    {
      "cell_type": "code",
      "source": [
        "class Student:\n",
        "  #생성자\n",
        "  def __init__(self, name):\n",
        "    self.name = name\n",
        "  #메써드\n",
        "  def study(self, hard = False):\n",
        "    if hard:\n",
        "      print (\"%s 학생은 열심히 공부합니다.\" %self.name)\n",
        "    else:\n",
        "      print (\"%s 학생은 공부합니다.\" %self.name)\n",
        "\n",
        "s = Student('Heekyung')\n",
        "s.study()\n",
        "s.study(hard = True)"
      ],
      "metadata": {
        "colab": {
          "base_uri": "https://localhost:8080/"
        },
        "id": "olGMXsK64I-J",
        "outputId": "ff18b9ad-134d-45d5-b104-d34071b748f9"
      },
      "execution_count": 25,
      "outputs": [
        {
          "output_type": "stream",
          "name": "stdout",
          "text": [
            "Heekyung 학생은 공부합니다.\n",
            "Heekyung 학생은 열심히 공부합니다.\n"
          ]
        }
      ]
    }
  ]
}