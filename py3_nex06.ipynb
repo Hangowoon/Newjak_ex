{
  "nbformat": 4,
  "nbformat_minor": 0,
  "metadata": {
    "colab": {
      "name": "py3_nex06.ipynb",
      "provenance": [],
      "collapsed_sections": [],
      "authorship_tag": "ABX9TyNnWEjYfGEt5K8o7cQnK2u+",
      "include_colab_link": true
    },
    "kernelspec": {
      "name": "python3",
      "display_name": "Python 3"
    },
    "language_info": {
      "name": "python"
    }
  },
  "cells": [
    {
      "cell_type": "markdown",
      "metadata": {
        "id": "view-in-github",
        "colab_type": "text"
      },
      "source": [
        "<a href=\"https://colab.research.google.com/github/Hangowoon/Newjak_ex/blob/main/py3_nex06.ipynb\" target=\"_parent\"><img src=\"https://colab.research.google.com/assets/colab-badge.svg\" alt=\"Open In Colab\"/></a>"
      ]
    },
    {
      "cell_type": "code",
      "execution_count": 1,
      "metadata": {
        "id": "pGHb6HPF-6W3"
      },
      "outputs": [],
      "source": [
        "import numpy as np\n",
        "import matplotlib.pylab as plt"
      ]
    },
    {
      "cell_type": "markdown",
      "source": [
        "▶ (실습)Q1. 벡터, 행렬 연산(+, -, *, /, dot)\n",
        "\n",
        "Q1.1 벡터\n",
        "\n",
        "v1 = [1,2,3,4,5]\n",
        "\n",
        "v2 = [6,7,8,9,10]\n",
        "\n",
        "\n",
        "\n"
      ],
      "metadata": {
        "id": "X8fUIBJZ_Tmv"
      }
    },
    {
      "cell_type": "code",
      "source": [
        "v1 = np.array([1,2,3,4,5])\n",
        "v2 = np.array([6,7,8,9,10])\n",
        "\n",
        "#벡터 연산  \n",
        "print (\"v1+v2 = \", (v1 + v2) ) #더하기 elementwise sum\n",
        "print (\"v1-v2 = \", (v1 - v2) ) #빼기 elementwise difference\n",
        "print (\"v1*v2 = \", (v1 * v2) ) #곱하기 elementwise product\n",
        "print (\"v1/v2 = \", (v1 / v2) ) #나누기 elementwise division\n",
        "print (\"v1.dot(v2) = \", v1.dot(v2) ) #내적\n",
        "print (\"np.dot (v1,v2) = \", np.dot(v1,v2) )"
      ],
      "metadata": {
        "colab": {
          "base_uri": "https://localhost:8080/"
        },
        "id": "9bgdZ09GAYod",
        "outputId": "16ba14b5-4e39-4979-8942-7cd39c1fba7b"
      },
      "execution_count": 2,
      "outputs": [
        {
          "output_type": "stream",
          "name": "stdout",
          "text": [
            "v1+v2 =  [ 7  9 11 13 15]\n",
            "v1-v2 =  [-5 -5 -5 -5 -5]\n",
            "v1*v2 =  [ 6 14 24 36 50]\n",
            "v1/v2 =  [0.16666667 0.28571429 0.375      0.44444444 0.5       ]\n",
            "v1.dot(v2) =  130\n",
            "np.dot (v1,v2) =  130\n"
          ]
        }
      ]
    },
    {
      "cell_type": "markdown",
      "source": [
        "Q1.2 행렬(only dot)\n",
        "\n",
        "m1 = [[1,2,3,4], [5,6,7,8], [9,10,11,12]]    # shape: (?, ?)\n",
        "\n",
        "m2 = [[1,2], [3,4], [5,6], [7,8]]  # shape: (?, ?)"
      ],
      "metadata": {
        "id": "FwPnB6hCCc62"
      }
    },
    {
      "cell_type": "code",
      "source": [
        "#행렬 연산\n",
        "m1 = np.array([[1,2,3,4],[5,6,7,8],[9,10,11,12]]) #(3,4)\n",
        "m2 = np.array([[1,2],[3,4],[5,6],[7,8]]) #(4,2)\n",
        "\n",
        "#shape \n",
        "print(\"m1의 shape : \", m1.shape)\n",
        "print(\"m2의 shape : \", m2.shape)\n",
        "\n"
      ],
      "metadata": {
        "colab": {
          "base_uri": "https://localhost:8080/"
        },
        "id": "UOT3-6dlA5jF",
        "outputId": "e34a0a86-1f52-4a6c-96c8-ec02e1630871"
      },
      "execution_count": 3,
      "outputs": [
        {
          "output_type": "stream",
          "name": "stdout",
          "text": [
            "m1의 shape :  (3, 4)\n",
            "m2의 shape :  (4, 2)\n"
          ]
        }
      ]
    },
    {
      "cell_type": "code",
      "source": [
        "#벡터\n",
        "v1 = np.array([1,2,3,4,5]) #(5,)\n",
        "v2 = np.array([6,7,8,9,10]) #(5,)\n",
        "#행렬\n",
        "m1 = np.array([[1,2,3,4],[5,6,7,8],[9,10,11,12]]) #(3,4)\n",
        "m2 = np.array([[1,2],[3,4],[5,6],[7,8]]) #(4,2)\n",
        "\n",
        "#벡터-벡터 연산\n",
        "print (v1+v2)  # [1+6, 2+7, 3+8, 4+9, 5+10] = [7,9,11,13,15]\n",
        "print (v1-v2)  # [1-6, 2-7, 3-8, 4-9, 5-10] = [-5,-5,-5,-5,-5]\n",
        "print (v1*v2)  # [1*6, 2*7, 3*8, 4*9, 5*10] = [6,14,24,36,50]\n",
        "print (v1/v2)  # [1/6, 2/7, 3/8, 4/9, 5/10] = [0.16666, 0.28571, 0.375, 0.44444, 0.5]\n",
        "print (np.dot(v1,v2)) # [1*6 + 2*7 + 3*8 + 4*9 + 5*10] = 130\n",
        "#벡터-행렬 연산\n",
        "\n",
        "\n",
        "#행렬-행렬 연산\n",
        "print (np.dot(m1,m2))  # (3,2) # [(1*1 + 2*3 + 3*5 + 4*7) (1*2 + 2*4 + 3*6 + 4*8) / \n",
        "                               #  (5*1 + 6*3 + 7*5 + 8*7) (5*2 + 6*4 + 7*6 + 8*8) /\n",
        "                               #  (9*1 +10*3 +11*5 +12*7) (9*2 +10*4 +11*6 +12*8) ] \n",
        "                               "
      ],
      "metadata": {
        "colab": {
          "base_uri": "https://localhost:8080/"
        },
        "id": "2hOuIOu4hF33",
        "outputId": "34aeaf9d-2700-4c74-9c0a-1ebc0d8ec57f"
      },
      "execution_count": 4,
      "outputs": [
        {
          "output_type": "stream",
          "name": "stdout",
          "text": [
            "[ 7  9 11 13 15]\n",
            "[-5 -5 -5 -5 -5]\n",
            "[ 6 14 24 36 50]\n",
            "[0.16666667 0.28571429 0.375      0.44444444 0.5       ]\n",
            "130\n",
            "[[ 50  60]\n",
            " [114 140]\n",
            " [178 220]]\n"
          ]
        }
      ]
    },
    {
      "cell_type": "markdown",
      "source": [
        "▶ (실습)Q2. 행렬에서 특정 행과 열 성분으로 새로운 행렬 만들기\n",
        "  - m1 의 0,1행과 1,2,3열로 새로운 행렬 m3 만들기"
      ],
      "metadata": {
        "id": "XlkcsjTYHpN1"
      }
    },
    {
      "cell_type": "code",
      "source": [
        "m3 = np.array([[1,2,3],[5,6,7]])\n",
        "print (\"값 : \\n\"  ,m3)"
      ],
      "metadata": {
        "colab": {
          "base_uri": "https://localhost:8080/"
        },
        "id": "H7Hj3oQHGHDF",
        "outputId": "7b899cc0-81e7-485b-a601-963c09f161bc"
      },
      "execution_count": 5,
      "outputs": [
        {
          "output_type": "stream",
          "name": "stdout",
          "text": [
            "값 : \n",
            " [[1 2 3]\n",
            " [5 6 7]]\n"
          ]
        }
      ]
    },
    {
      "cell_type": "markdown",
      "source": [
        "▶ (실습)Q3. shape=(128,) 인 Gaussian noise 생성하기\n",
        "\n",
        "- v3 "
      ],
      "metadata": {
        "id": "C1Am_Bb5H4lu"
      }
    },
    {
      "cell_type": "code",
      "source": [
        "v3 = np.random.randn(128,)\n",
        "print(v3)"
      ],
      "metadata": {
        "colab": {
          "base_uri": "https://localhost:8080/"
        },
        "id": "6QC_6VJCH7Tl",
        "outputId": "94444954-dc2d-4242-b953-d3a4f0fed1a8"
      },
      "execution_count": 6,
      "outputs": [
        {
          "output_type": "stream",
          "name": "stdout",
          "text": [
            "[-0.41773044  1.47721196 -0.54300742 -0.44032253 -0.63291973 -0.01196774\n",
            " -0.14532581 -0.14197276 -0.39689487  1.51766616  0.18302581  0.01983085\n",
            " -1.77607211 -1.42346056 -0.58097455 -0.67025089  0.73933142 -0.68446349\n",
            " -0.25317333  0.98220267  0.62664075  0.44211197  1.17981676 -0.82202419\n",
            " -1.14052615 -0.48649778  1.50016494 -0.18230083  0.49279301  0.70856373\n",
            "  1.06797861 -0.43188391 -1.48087947 -0.44131186 -1.00901806 -0.69168525\n",
            "  0.08690905 -0.33015724  0.3468337   0.17407035 -0.28764706  0.13827712\n",
            "  0.17418651 -0.89551653 -0.20461956 -0.230896   -0.40226353  0.10830375\n",
            "  0.36102933 -0.15383197 -2.31582315  1.47539672  0.48473202 -1.50948067\n",
            "  0.23279297  0.09325239  1.11399205  0.66662355 -1.20668902 -0.07012576\n",
            " -0.9405914  -0.01554791  0.257774    0.36395521  0.32459749 -1.39564459\n",
            " -0.75115618 -0.00983674  2.98009959  0.36992028 -0.78922934 -0.19234348\n",
            " -1.16941929  0.26516306  0.71457187 -0.02375273 -0.25026961 -0.80569525\n",
            "  1.16046235  0.37514464 -0.80344184  0.3065998  -1.2199974   1.24755666\n",
            " -0.04284684 -1.14201804  0.75058206  1.45623628 -0.9591235   0.38710669\n",
            "  1.48762577 -0.09375854  1.17304229  0.21735085  0.67552042  1.63910247\n",
            " -0.79447378  0.53025505 -0.63296736  0.73366532 -1.73897738  0.58581387\n",
            "  1.09447723  0.0457533   0.42375557 -1.10379156  0.70774525  1.31217987\n",
            "  1.1057158  -0.65855433  1.14330748 -0.04707511 -1.05531574 -1.37931717\n",
            "  1.34969903 -1.34607383  1.45177194 -0.58122288  0.79937666  1.37619576\n",
            " -1.47972412  0.27473547  2.23477685  0.13470128 -0.56720167 -2.00373055\n",
            "  0.35736265 -0.00532997]\n"
          ]
        }
      ]
    },
    {
      "cell_type": "markdown",
      "source": [
        ""
      ],
      "metadata": {
        "id": "G4Vtk46lZhCd"
      }
    },
    {
      "cell_type": "markdown",
      "source": [
        "▶ Q4. 데이터를 neural network 에 feed 할 때, 보통 필요한 변수 두개와 역할을 쓰시오."
      ],
      "metadata": {
        "id": "tngZApIGH9xn"
      }
    },
    {
      "cell_type": "code",
      "source": [
        "# train_loader\n",
        "# test_loader"
      ],
      "metadata": {
        "id": "XuVNISDWIFd1"
      },
      "execution_count": 7,
      "outputs": []
    }
  ]
}